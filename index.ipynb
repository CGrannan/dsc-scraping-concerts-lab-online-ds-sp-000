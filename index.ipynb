{
 "cells": [
  {
   "cell_type": "markdown",
   "metadata": {},
   "source": [
    "# Scraping Concerts - Lab\n",
    "\n",
    "## Introduction\n",
    "\n",
    "Now that you've seen how to scrape a simple website, it's time to again practice those skills on a full-fledged site!\n",
    "In this lab, you'll practice your scraping skills on a music website: https://www.residentadvisor.net.\n",
    "## Objectives\n",
    "\n",
    "You will be able to:\n",
    "* Scrape events from a website\n",
    "* Follow links to those events to retrieve further information\n",
    "* Clean and store scraped data"
   ]
  },
  {
   "cell_type": "markdown",
   "metadata": {},
   "source": [
    "## View the Website\n",
    "\n",
    "For this lab, you'll be scraping the https://www.residentadvisor.net website. Start by navigating to the events page [here](https://www.residentadvisor.net/events) in your browser.\n",
    "\n",
    "<img src=\"images/ra.png\">"
   ]
  },
  {
   "cell_type": "code",
   "execution_count": 1,
   "metadata": {},
   "outputs": [],
   "source": [
    "#Load the https://www.residentadvisor.net/events page in your browser."
   ]
  },
  {
   "cell_type": "markdown",
   "metadata": {},
   "source": [
    "## Open the Inspect Element Feature\n",
    "\n",
    "Next, open the inspect element feature from your web browser in order to preview the underlying HTML associated with the page."
   ]
  },
  {
   "cell_type": "code",
   "execution_count": 2,
   "metadata": {},
   "outputs": [],
   "source": [
    "#Open the inspect element feature in your browser"
   ]
  },
  {
   "cell_type": "markdown",
   "metadata": {},
   "source": [
    "## Write a Function to Scrape all of the Events on the Given Page Events Page\n",
    "\n",
    "The function should return a Pandas DataFrame with columns for the Event_Name, Venue, Event_Date and Number_of_Attendees."
   ]
  },
  {
   "cell_type": "code",
   "execution_count": 3,
   "metadata": {},
   "outputs": [],
   "source": [
    "def scrape_events(events_page_url):\n",
    "    rows = []\n",
    "    html_page = requests.get(events_page_url)\n",
    "    soup = BeautifulSoup(html_page.content, 'html.parser')\n",
    "    event_container = soup.find('div', id=\"event-listing\")\n",
    "    for event in event_container.findAll('h1'):\n",
    "        specs = event.text.split(' at ')\n",
    "        event_name = specs[0]\n",
    "        venue = specs[1]\n",
    "        event_date = event.parent.previousSibling.previousSibling.text.split('T')[0]\n",
    "        try:\n",
    "            number_attending = event.nextSibling.nextSibling.text[0]\n",
    "        except:\n",
    "            number_attending = np.nan\n",
    "        rows.append([event_name, venue, event_date, number_attending])\n",
    "    try:\n",
    "        df = pd.DataFrame(rows)\n",
    "        df.columns = [\"Event_Name\", \"Venue\", \"Event_Date\", \"Number_of_Attendees\"]\n",
    "    except:\n",
    "        return None\n",
    "    return df"
   ]
  },
  {
   "cell_type": "markdown",
   "metadata": {},
   "source": [
    "## Write a Function to Retrieve the URL for the Next Page"
   ]
  },
  {
   "cell_type": "code",
   "execution_count": 5,
   "metadata": {},
   "outputs": [],
   "source": [
    "def next_page(url):\n",
    "    html_page = requests.get(url)\n",
    "    soup = BeautifulSoup(html_page.content, 'html.parser')\n",
    "    try:\n",
    "        url_ext = soup.find('a', attrs={'ga-event-action':\"Next \"}).attrs[\"href\"]\n",
    "        next_page_url = 'https://www.residentadvisor.net' + url_ext\n",
    "        return next_page_url\n",
    "    except:\n",
    "        return None"
   ]
  },
  {
   "cell_type": "markdown",
   "metadata": {},
   "source": [
    "## Scrape the Next 1000 Events for Your Area\n",
    "\n",
    "Display the data sorted by the number of attendees. If there is a tie for the number attending, sort by event date."
   ]
  },
  {
   "cell_type": "code",
   "execution_count": 6,
   "metadata": {},
   "outputs": [
    {
     "name": "stdout",
     "output_type": "stream",
     "text": [
      "4\n",
      "10\n",
      "11\n",
      "14\n",
      "18\n",
      "19\n",
      "20\n",
      "21\n",
      "(21, 4)\n"
     ]
    },
    {
     "data": {
      "text/html": [
       "<div>\n",
       "<style scoped>\n",
       "    .dataframe tbody tr th:only-of-type {\n",
       "        vertical-align: middle;\n",
       "    }\n",
       "\n",
       "    .dataframe tbody tr th {\n",
       "        vertical-align: top;\n",
       "    }\n",
       "\n",
       "    .dataframe thead th {\n",
       "        text-align: right;\n",
       "    }\n",
       "</style>\n",
       "<table border=\"1\" class=\"dataframe\">\n",
       "  <thead>\n",
       "    <tr style=\"text-align: right;\">\n",
       "      <th></th>\n",
       "      <th>Event_Name</th>\n",
       "      <th>Venue</th>\n",
       "      <th>Event_Date</th>\n",
       "      <th>Number_of_Attendees</th>\n",
       "    </tr>\n",
       "  </thead>\n",
       "  <tbody>\n",
       "    <tr>\n",
       "      <th>0</th>\n",
       "      <td>Wax Cave: All Vinyl: Infrared</td>\n",
       "      <td>Warehouse on Watts</td>\n",
       "      <td>2019-08-09</td>\n",
       "      <td>3</td>\n",
       "    </tr>\n",
       "    <tr>\n",
       "      <th>1</th>\n",
       "      <td>Jellyfish ⇛ August Courtyard Disco</td>\n",
       "      <td>P Town Bar</td>\n",
       "      <td>2019-08-09</td>\n",
       "      <td>2</td>\n",
       "    </tr>\n",
       "    <tr>\n",
       "      <th>2</th>\n",
       "      <td>Shameless Techno Party</td>\n",
       "      <td>The Barbary</td>\n",
       "      <td>2019-08-09</td>\n",
       "      <td>2</td>\n",
       "    </tr>\n",
       "    <tr>\n",
       "      <th>3</th>\n",
       "      <td>Hot Mass Pres. Analog Soul</td>\n",
       "      <td>Hot Mass</td>\n",
       "      <td>2019-08-10</td>\n",
       "      <td>1</td>\n",
       "    </tr>\n",
       "    <tr>\n",
       "      <th>4</th>\n",
       "      <td>Honcho Campout 2019</td>\n",
       "      <td>Four Quarters Interfaith Sanctuary</td>\n",
       "      <td>2019-08-15</td>\n",
       "      <td>3</td>\n",
       "    </tr>\n",
       "  </tbody>\n",
       "</table>\n",
       "</div>"
      ],
      "text/plain": [
       "                           Event_Name                               Venue  \\\n",
       "0       Wax Cave: All Vinyl: Infrared                  Warehouse on Watts   \n",
       "1  Jellyfish ⇛ August Courtyard Disco                          P Town Bar   \n",
       "2              Shameless Techno Party                         The Barbary   \n",
       "3          Hot Mass Pres. Analog Soul                            Hot Mass   \n",
       "4                 Honcho Campout 2019  Four Quarters Interfaith Sanctuary   \n",
       "\n",
       "   Event_Date Number_of_Attendees  \n",
       "0  2019-08-09                   3  \n",
       "1  2019-08-09                   2  \n",
       "2  2019-08-09                   2  \n",
       "3  2019-08-10                   1  \n",
       "4  2019-08-15                   3  "
      ]
     },
     "execution_count": 6,
     "metadata": {},
     "output_type": "execute_result"
    }
   ],
   "source": [
    "import requests\n",
    "from bs4 import BeautifulSoup\n",
    "import pandas as pd\n",
    "import numpy as np\n",
    "dfs = []\n",
    "url = 'https://www.residentadvisor.net/events'\n",
    "count = 0\n",
    "while count <= 1000 and url:\n",
    "    df = scrape_events(url)\n",
    "    if df is None:\n",
    "        url = next_page(url)\n",
    "    else:\n",
    "        dfs.append(df)\n",
    "        count += len(df)\n",
    "        url = next_page(url)\n",
    "        print(count)\n",
    "df = pd.concat(dfs, ignore_index=True)\n",
    "print(df.shape)\n",
    "df.head()"
   ]
  },
  {
   "cell_type": "markdown",
   "metadata": {},
   "source": [
    "It looks like Philadelphia is not too exciting in the summertime.  There are only 21 events currently scheduled."
   ]
  },
  {
   "cell_type": "markdown",
   "metadata": {},
   "source": [
    "## Summary \n",
    "\n",
    "Congratulations! In this lab, you successfully scraped a website for concert event information!"
   ]
  }
 ],
 "metadata": {
  "kernelspec": {
   "display_name": "Python 3",
   "language": "python",
   "name": "python3"
  },
  "language_info": {
   "codemirror_mode": {
    "name": "ipython",
    "version": 3
   },
   "file_extension": ".py",
   "mimetype": "text/x-python",
   "name": "python",
   "nbconvert_exporter": "python",
   "pygments_lexer": "ipython3",
   "version": "3.6.6"
  }
 },
 "nbformat": 4,
 "nbformat_minor": 2
}
